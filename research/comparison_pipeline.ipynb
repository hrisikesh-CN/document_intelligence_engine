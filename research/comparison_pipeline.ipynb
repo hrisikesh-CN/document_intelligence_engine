{
 "cells": [
  {
   "cell_type": "code",
   "execution_count": 2,
   "metadata": {},
   "outputs": [],
   "source": [
    "from langchain_community.document_loaders import (\n",
    "    CSVLoader, PyPDFLoader\n",
    ")\n",
    "from langchain_community.document_loaders.powerpoint import UnstructuredPowerPointLoader\n",
    "\n",
    "from langchain_text_splitters import RecursiveCharacterTextSplitter \n"
   ]
  },
  {
   "cell_type": "markdown",
   "metadata": {},
   "source": [
    "Read about - \n",
    "- [self-query with metadata tagging and retrieval](https://python.langchain.com/v0.2/docs/how_to/self_query/)\n",
    "- [How to reorder retrieved results to mitigate the \"lost in the middle\" effect](https://python.langchain.com/v0.2/docs/how_to/long_context_reorder/)\n",
    "- [How to combine results from multiple retrievers](https://python.langchain.com/v0.2/docs/how_to/ensemble_retriever/)\n",
    "- [How to use the LangChain indexing API](https://python.langchain.com/v0.2/docs/how_to/indexing/)"
   ]
  },
  {
   "cell_type": "markdown",
   "metadata": {},
   "source": []
  }
 ],
 "metadata": {
  "kernelspec": {
   "display_name": "Python 3",
   "language": "python",
   "name": "python3"
  },
  "language_info": {
   "codemirror_mode": {
    "name": "ipython",
    "version": 3
   },
   "file_extension": ".py",
   "mimetype": "text/x-python",
   "name": "python",
   "nbconvert_exporter": "python",
   "pygments_lexer": "ipython3",
   "version": "3.10.14"
  }
 },
 "nbformat": 4,
 "nbformat_minor": 2
}
