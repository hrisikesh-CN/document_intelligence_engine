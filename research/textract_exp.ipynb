{
 "cells": [
  {
   "cell_type": "code",
   "execution_count": 1,
   "id": "4a242c50-3f1e-47ff-8754-75d33d7a7fd7",
   "metadata": {},
   "outputs": [],
   "source": [
    "from textractor import Textractor\n",
    "\n",
    "extractor = Textractor(profile_name=\"default\")"
   ]
  },
  {
   "cell_type": "code",
   "execution_count": 21,
   "id": "b04e789e-a4e3-4fae-87ff-749023ba8533",
   "metadata": {},
   "outputs": [
    {
     "name": "stdout",
     "output_type": "stream",
     "text": [
      "Converted to /home/cnadmin/official/myne/myne-ml-serve/research/112423 Google Drive Folder Test Outline v1 (1).pdf\n"
     ]
    }
   ],
   "source": [
    "\n",
    "import sys\n",
    "import subprocess\n",
    "import re\n",
    "\n",
    "\n",
    "def convert_to(folder, source, timeout=None):\n",
    "    args = [libreoffice_exec(), '--headless', '--convert-to', 'pdf', '--outdir', folder, source]\n",
    "\n",
    "    process = subprocess.run(args, stdout=subprocess.PIPE, stderr=subprocess.PIPE, timeout=timeout)\n",
    "    filename = re.search('-> (.*?) using filter', process.stdout.decode())\n",
    "\n",
    "    if filename is None: \n",
    "        raise LibreOfficeError(process.stdout.decode())\n",
    "    else:\n",
    "        return filename.group(1)\n",
    "\n",
    "\n",
    "def libreoffice_exec():\n",
    "    # TODO: Provide support for more platforms\n",
    "    if sys.platform == 'darwin':\n",
    "        return '/Applications/LibreOffice.app/Contents/MacOS/soffice'\n",
    "    return 'libreoffice'\n",
    "\n",
    "\n",
    "class LibreOfficeError(Exception):\n",
    "    def __init__(self, output):\n",
    "        self.output = output\n",
    "\n",
    "\n",
    "if __name__ == '__main__':\n",
    "    print('Converted to ' + convert_to(\n",
    "        \"./\",\n",
    "        \"test_docs/112423 Google Drive Folder Test Outline v1 (1).docx\"))"
   ]
  },
  {
   "cell_type": "code",
   "execution_count": 24,
   "id": "35947795-5762-4bff-8025-b32a097a7d1e",
   "metadata": {},
   "outputs": [],
   "source": []
  },
  {
   "cell_type": "code",
   "execution_count": 1,
   "id": "b0077ac7-5a46-49d8-ac88-b707b1ac9c8b",
   "metadata": {},
   "outputs": [],
   "source": [
    "import os \n",
    "os.chdir(\"..\")"
   ]
  },
  {
   "cell_type": "code",
   "execution_count": 2,
   "id": "78dd94ff-a054-4022-bef1-2d3658ea05c3",
   "metadata": {},
   "outputs": [],
   "source": [
    "# from src.file_readers.readers import read_docx\n",
    "from langchain_text_splitters import RecursiveCharacterTextSplitter\n",
    "\n",
    "splitter = RecursiveCharacterTextSplitter(chunk_size=1000,\n",
    "    chunk_overlap=200, \n",
    "    separators=[\"\\n\\n\", \"\\n\", \" \", \"\"])\n",
    "\n",
    "# read_docx(\"research/test_docs/112423 Google Drive Folder Test Outline v1 (1).docx\",\n",
    "#          splitter)"
   ]
  },
  {
   "cell_type": "code",
   "execution_count": 3,
   "id": "5890a127-8c35-42d1-a2ce-1abec5622fec",
   "metadata": {},
   "outputs": [],
   "source": [
    "from src.file_readers import ReadFiles\n",
    "from src.entity.artifact_entity import FileHandlerArtifact\n",
    "artifact = FileHandlerArtifact(\n",
    "    file_storage_dir=\"artifacts/06_26_2024_12_48_34/file_storage/testmyne45\"\n",
    ")"
   ]
  },
  {
   "cell_type": "code",
   "execution_count": 4,
   "id": "4cd8eefe-9624-4e18-b764-7c342d7ac93c",
   "metadata": {},
   "outputs": [],
   "source": [
    "rd = ReadFiles(file_handler_artifact=artifact,\n",
    "               text_splitter=splitter)"
   ]
  },
  {
   "cell_type": "code",
   "execution_count": 5,
   "id": "0addb391-071e-4dda-838c-bd6ce75c38ca",
   "metadata": {},
   "outputs": [],
   "source": [
    "files = rd.read_all_files()"
   ]
  },
  {
   "cell_type": "code",
   "execution_count": 11,
   "id": "e54d672e-3ece-4036-93bc-4ee812b31079",
   "metadata": {},
   "outputs": [
    {
     "data": {
      "text/plain": [
       "dict_keys(['screenshot-(3).png', 'myne-project-plan.pdf'])"
      ]
     },
     "execution_count": 11,
     "metadata": {},
     "output_type": "execute_result"
    }
   ],
   "source": [
    "files.keys()"
   ]
  },
  {
   "cell_type": "code",
   "execution_count": 8,
   "id": "29deac66-8d4a-420b-9ff9-1771b9770cdd",
   "metadata": {},
   "outputs": [
    {
     "data": {
      "text/plain": [
       "dict_keys(['screenshot-(3).png', 'myne-project-plan.pdf'])"
      ]
     },
     "execution_count": 8,
     "metadata": {},
     "output_type": "execute_result"
    }
   ],
   "source": [
    "files.keys()"
   ]
  },
  {
   "cell_type": "code",
   "execution_count": 7,
   "id": "c86b5db9-fc1b-4390-afd7-100305ae9e4c",
   "metadata": {},
   "outputs": [
    {
     "data": {
      "text/plain": [
       "'default_database'"
      ]
     },
     "execution_count": 7,
     "metadata": {},
     "output_type": "execute_result"
    }
   ],
   "source": [
    "import chromadb\n",
    "\n",
    "chromadb.DEFAULT_DATABASE"
   ]
  },
  {
   "cell_type": "code",
   "execution_count": null,
   "id": "b251e8c8-e745-4660-8f73-6a4a020fbd03",
   "metadata": {},
   "outputs": [],
   "source": []
  },
  {
   "cell_type": "code",
   "execution_count": 2,
   "id": "f922bb83-848d-4f94-b21a-67bf319670bb",
   "metadata": {},
   "outputs": [
    {
     "name": "stderr",
     "output_type": "stream",
     "text": [
      "/home/cnadmin/official/myne/myne-ml-serve/env/lib/python3.10/site-packages/langchain_core/_api/deprecation.py:139: LangChainDeprecationWarning: The class `HuggingFaceEmbeddings` was deprecated in LangChain 0.2.2 and will be removed in 0.3.0. An updated version of the class exists in the langchain-huggingface package and should be used instead. To use it run `pip install -U langchain-huggingface` and import as `from langchain_huggingface import HuggingFaceEmbeddings`.\n",
      "  warn_deprecated(\n",
      "/home/cnadmin/official/myne/myne-ml-serve/env/lib/python3.10/site-packages/sentence_transformers/cross_encoder/CrossEncoder.py:11: TqdmWarning: IProgress not found. Please update jupyter and ipywidgets. See https://ipywidgets.readthedocs.io/en/stable/user_install.html\n",
      "  from tqdm.autonotebook import tqdm, trange\n",
      "/home/cnadmin/official/myne/myne-ml-serve/env/lib/python3.10/site-packages/huggingface_hub/file_download.py:1132: FutureWarning: `resume_download` is deprecated and will be removed in version 1.0.0. Downloads always resume when possible. If you want to force a new download, use `force_download=True`.\n",
      "  warnings.warn(\n"
     ]
    },
    {
     "name": "stdout",
     "output_type": "stream",
     "text": [
      "There are 3 in the collection\n"
     ]
    }
   ],
   "source": [
    "from langchain_chroma import Chroma\n",
    "from langchain_community.document_loaders import TextLoader\n",
    "from langchain_community.embeddings.sentence_transformer import (\n",
    "    SentenceTransformerEmbeddings,\n",
    ")\n",
    "from langchain_text_splitters import CharacterTextSplitter\n",
    "# from langchain_community.embeddings\n",
    "import chromadb\n",
    "\n",
    "persistent_client = chromadb.PersistentClient()\n",
    "for doc_name, docs in files.items():\n",
    "    \n",
    "    collection = persistent_client.get_or_create_collection(doc_name.split(\".\")[0])\n",
    "    collection.add(ids=[\"1\", \"2\", \"3\"], documents=[\"a\", \"b\", \"c\"])\n",
    "    embedding_function = SentenceTransformerEmbeddings(model_name=\"all-MiniLM-L6-v2\")\n",
    "\n",
    "\n",
    "langchain_chroma = Chroma(\n",
    "    client=persistent_client,\n",
    "    collection_name=\"collection_name\",\n",
    "    embedding_function=embedding_function,\n",
    ")\n",
    "\n",
    "print(\"There are\", langchain_chroma._collection.count(), \"in the collection\")"
   ]
  },
  {
   "cell_type": "code",
   "execution_count": 9,
   "id": "39fba2c2-2905-48f8-a679-86bb764ce108",
   "metadata": {},
   "outputs": [
    {
     "ename": "ImportError",
     "evalue": "cannot import name 'Settings' from 'chromadb.api.types' (/home/cnadmin/official/myne/myne-ml-serve/env/lib/python3.10/site-packages/chromadb/api/types.py)",
     "output_type": "error",
     "traceback": [
      "\u001b[0;31m---------------------------------------------------------------------------\u001b[0m",
      "\u001b[0;31mImportError\u001b[0m                               Traceback (most recent call last)",
      "Cell \u001b[0;32mIn[9], line 1\u001b[0m\n\u001b[0;32m----> 1\u001b[0m \u001b[38;5;28;01mfrom\u001b[39;00m \u001b[38;5;21;01mchromadb\u001b[39;00m\u001b[38;5;21;01m.\u001b[39;00m\u001b[38;5;21;01mapi\u001b[39;00m\u001b[38;5;21;01m.\u001b[39;00m\u001b[38;5;21;01mtypes\u001b[39;00m \u001b[38;5;28;01mimport\u001b[39;00m Settings\n\u001b[1;32m      2\u001b[0m \u001b[38;5;28;01mimport\u001b[39;00m \u001b[38;5;21;01mchromadb\u001b[39;00m\n\u001b[1;32m      4\u001b[0m client \u001b[38;5;241m=\u001b[39m chromadb\u001b[38;5;241m.\u001b[39mHttpClient(settings\u001b[38;5;241m=\u001b[39mSettings(\n\u001b[1;32m      5\u001b[0m     chroma_db_impl\u001b[38;5;241m=\u001b[39m\u001b[38;5;124m\"\u001b[39m\u001b[38;5;124mduckdb+s3\u001b[39m\u001b[38;5;124m\"\u001b[39m,\n\u001b[1;32m      6\u001b[0m     persist_directory\u001b[38;5;241m=\u001b[39m\u001b[38;5;124m\"\u001b[39m\u001b[38;5;124ms3://ml-vectordb/chroma-data\u001b[39m\u001b[38;5;124m\"\u001b[39m,\n\u001b[1;32m      7\u001b[0m ))\n",
      "\u001b[0;31mImportError\u001b[0m: cannot import name 'Settings' from 'chromadb.api.types' (/home/cnadmin/official/myne/myne-ml-serve/env/lib/python3.10/site-packages/chromadb/api/types.py)"
     ]
    }
   ],
   "source": [
    "from chromadb.api.types import Settings\n",
    "import chromadb\n",
    "\n",
    "client = chromadb.HttpClient(settings=Settings(\n",
    "    chroma_db_impl=\"duckdb+s3\",\n",
    "    persist_directory=\"s3://ml-vectordb/chroma-data\",\n",
    "))\n"
   ]
  },
  {
   "cell_type": "code",
   "execution_count": null,
   "id": "2f362192-daef-4fc0-8b55-cf0f4b1a569a",
   "metadata": {},
   "outputs": [],
   "source": []
  }
 ],
 "metadata": {
  "kernelspec": {
   "display_name": "Python 3 (ipykernel)",
   "language": "python",
   "name": "python3"
  },
  "language_info": {
   "codemirror_mode": {
    "name": "ipython",
    "version": 3
   },
   "file_extension": ".py",
   "mimetype": "text/x-python",
   "name": "python",
   "nbconvert_exporter": "python",
   "pygments_lexer": "ipython3",
   "version": "3.10.14"
  }
 },
 "nbformat": 4,
 "nbformat_minor": 5
}
