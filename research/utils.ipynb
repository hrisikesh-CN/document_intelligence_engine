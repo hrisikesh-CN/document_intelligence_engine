{
 "cells": [
  {
   "cell_type": "code",
   "execution_count": 1,
   "metadata": {},
   "outputs": [
    {
     "name": "stdout",
     "output_type": "stream",
     "text": [
      "Bucket Name: test-myne12\n",
      "Filename: myne-project-plan.pdf\n"
     ]
    }
   ],
   "source": [
    "import re\n",
    "\n",
    "def extract_s3_info(url):\n",
    "    # Define the regex pattern for extracting bucket name and filename\n",
    "    pattern = r\"https://([^.]+)\\.s3\\.amazonaws\\.com/(.+)\"\n",
    "    match = re.match(pattern, url)\n",
    "    if match:\n",
    "        bucket_name = match.group(1)\n",
    "        filename = match.group(2)\n",
    "        return bucket_name, filename\n",
    "    else:\n",
    "        raise ValueError(\"URL format is not valid\")\n",
    "\n",
    "# Test the function with the given URL\n",
    "url = \"https://test-myne12.s3.amazonaws.com/myne-project-plan.pdf\"\n",
    "bucket_name, filename = extract_s3_info(url)\n",
    "print(f\"Bucket Name: {bucket_name}\")\n",
    "print(f\"Filename: {filename}\")\n"
   ]
  },
  {
   "cell_type": "code",
   "execution_count": null,
   "metadata": {},
   "outputs": [],
   "source": []
  }
 ],
 "metadata": {
  "kernelspec": {
   "display_name": "Python 3",
   "language": "python",
   "name": "python3"
  },
  "language_info": {
   "codemirror_mode": {
    "name": "ipython",
    "version": 3
   },
   "file_extension": ".py",
   "mimetype": "text/x-python",
   "name": "python",
   "nbconvert_exporter": "python",
   "pygments_lexer": "ipython3",
   "version": "3.10.14"
  }
 },
 "nbformat": 4,
 "nbformat_minor": 2
}
